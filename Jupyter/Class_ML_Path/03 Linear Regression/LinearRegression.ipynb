{
 "cells": [
  {
   "cell_type": "code",
   "execution_count": null,
   "metadata": {},
   "outputs": [],
   "source": [
    "import pandas as pd\n",
    "import matplotlib.pyplot as plt\n",
    "import numpy as np\n",
    "from sklearn import datasets, linear_model\n",
    "%matplotlib inline\n",
    "\n",
    "if __name__ == '__main__':\n",
    "    # Load CVS\n",
    "    DataMatrix = pd.read_csv('voice.csv', sep=',',skipinitialspace=True)\n",
    "  \n",
    "    DataMatrix.replace({'male': -1.0, 'female': 1.0},\\\n",
    "                      inplace=True)\n",
    "  \n",
    "    DataLabels = DataMatrix['label']\n",
    "  \n",
    "    # Transform to an NP Array\n",
    "    Data = DataMatrix.values[:,1]\n",
    "    Label = DataLabels.values\n",
    "  \n",
    "    fmask = (Label == 1.0)\n",
    "    mmask = (Label == -1.0)\n",
    "\n",
    "    # Train Data Set\n",
    "    X_train = (np.concatenate((Data[:1200], Data[1585:2785]))).reshape(-1, 1)\n",
    "    y_train = (np.concatenate((Label[:1200], Label[1585:2785]))).reshape(-1, 1)\n",
    "    # Test\n",
    "    X_test_male   = Data[1200:1585].reshape(-1, 1)\n",
    "    X_test_female = Data[2785:].reshape(-1, 1)\n",
    "    y_test_male   = Label[1200:1585].reshape(-1, 1)\n",
    "    y_test_female = Label[2785:].reshape(-1, 1)\n",
    "    \n",
    "    # Create linear regression object\n",
    "    regr = linear_model.LinearRegression()\n",
    "\n",
    "    # Train the model using the training sets\n",
    "    regr.fit(X_train, y_train)\n",
    "\n",
    "    # Make predictions using the testing set\n",
    "    y_pred_male   = regr.predict(X_test_male)\n",
    "    y_pred_female = regr.predict(X_test_female)\n",
    "\n",
    "    # The coefficients\n",
    "    print('Coefficients: \\n', regr.coef_)\n",
    "\n",
    "\n",
    "    # Plot outputs\n",
    "    plt.scatter(X_test_male, y_test_male,  color='black')\n",
    "    plt.scatter(X_test_female, y_test_female,  color='red')\n",
    "    plt.plot(X_test_male , y_pred_male, color='blue', linewidth=3)\n",
    "    plt.plot(X_test_female , y_pred_female, color='blue', linewidth=3)\n",
    "\n",
    "    plt.xticks(())\n",
    "    plt.yticks(())\n",
    "\n",
    "    plt.show()"
   ]
  },
  {
   "cell_type": "code",
   "execution_count": null,
   "metadata": {},
   "outputs": [],
   "source": []
  }
 ],
 "metadata": {
  "kernelspec": {
   "display_name": "Python 3",
   "language": "python",
   "name": "python3"
  },
  "language_info": {
   "codemirror_mode": {
    "name": "ipython",
    "version": 3
   },
   "file_extension": ".py",
   "mimetype": "text/x-python",
   "name": "python",
   "nbconvert_exporter": "python",
   "pygments_lexer": "ipython3",
   "version": "3.5.2"
  }
 },
 "nbformat": 4,
 "nbformat_minor": 2
}
