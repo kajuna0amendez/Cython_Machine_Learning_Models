{
 "cells": [
  {
   "cell_type": "code",
   "execution_count": 1,
   "metadata": {},
   "outputs": [
    {
     "ename": "NameError",
     "evalue": "name 'pd' is not defined",
     "output_type": "error",
     "traceback": [
      "\u001b[0;31m---------------------------------------------------------------------------\u001b[0m",
      "\u001b[0;31mNameError\u001b[0m                                 Traceback (most recent call last)",
      "\u001b[0;32m<ipython-input-1-9bf3bcbab06f>\u001b[0m in \u001b[0;36m<module>\u001b[0;34m\u001b[0m\n\u001b[1;32m      7\u001b[0m \u001b[0;32mif\u001b[0m \u001b[0m__name__\u001b[0m \u001b[0;34m==\u001b[0m \u001b[0;34m'__main__'\u001b[0m\u001b[0;34m:\u001b[0m\u001b[0;34m\u001b[0m\u001b[0;34m\u001b[0m\u001b[0m\n\u001b[1;32m      8\u001b[0m     \u001b[0;31m# Load CVS\u001b[0m\u001b[0;34m\u001b[0m\u001b[0;34m\u001b[0m\u001b[0;34m\u001b[0m\u001b[0m\n\u001b[0;32m----> 9\u001b[0;31m     \u001b[0mDataMatrix\u001b[0m \u001b[0;34m=\u001b[0m \u001b[0mpd\u001b[0m\u001b[0;34m.\u001b[0m\u001b[0mread_csv\u001b[0m\u001b[0;34m(\u001b[0m\u001b[0;34m'voice.csv'\u001b[0m\u001b[0;34m,\u001b[0m \u001b[0msep\u001b[0m\u001b[0;34m=\u001b[0m\u001b[0;34m','\u001b[0m\u001b[0;34m,\u001b[0m\u001b[0mskipinitialspace\u001b[0m\u001b[0;34m=\u001b[0m\u001b[0;32mTrue\u001b[0m\u001b[0;34m)\u001b[0m\u001b[0;34m\u001b[0m\u001b[0;34m\u001b[0m\u001b[0m\n\u001b[0m\u001b[1;32m     10\u001b[0m \u001b[0;34m\u001b[0m\u001b[0m\n\u001b[1;32m     11\u001b[0m     DataMatrix.replace({'male': -1.0, 'female': 1.0},\\\n",
      "\u001b[0;31mNameError\u001b[0m: name 'pd' is not defined"
     ]
    }
   ],
   "source": [
    "import pandas as pd\n",
    "import matplotlib.pyplot as plt\n",
    "import numpy as np\n",
    "from sklearn import datasets, linear_model\n",
    "%matplotlib inline\n",
    "\n",
    "if __name__ == '__main__':\n",
    "    # Load CVS\n",
    "    DataMatrix = pd.read_csv('voice.csv', sep=',',skipinitialspace=True)\n",
    "  \n",
    "    DataMatrix.replace({'male': -1.0, 'female': 1.0},\\\n",
    "                      inplace=True)\n",
    "  \n",
    "    DataLabels = DataMatrix['label']\n",
    "  \n",
    "    # Transform to an NP Array\n",
    "    Data = DataMatrix.values[:,1]\n",
    "    Label = DataLabels.values\n",
    "  \n",
    "    fmask = (Label == 1.0)\n",
    "    mmask = (Label == -1.0)\n",
    "\n",
    "    # Train \n",
    "    X_train = (np.concatenate((Data[:1200], Data[1585:2785]))).reshape(-1, 1)\n",
    "    y_train = (np.concatenate((Label[:1200], Label[1585:2785]))).reshape(-1, 1)\n",
    "    # Test\n",
    "    X_test_male   = Data[1200:1585].reshape(-1, 1)\n",
    "    X_test_female = Data[2785:].reshape(-1, 1)\n",
    "    y_test_male   = Label[1200:1585].reshape(-1, 1)\n",
    "    y_test_female = Label[2785:].reshape(-1, 1)\n",
    "    \n",
    "    # Create linear regression object\n",
    "    regr = linear_model.LinearRegression()\n",
    "\n",
    "    # Train the model using the training sets\n",
    "    regr.fit(X_train, y_train)\n",
    "\n",
    "    # Make predictions using the testing set\n",
    "    y_pred_male   = regr.predict(X_test_male)\n",
    "    y_pred_female = regr.predict(X_test_female)\n",
    "\n",
    "    # The coefficients\n",
    "    print('Coefficients: \\n', regr.coef_)\n",
    "\n",
    "\n",
    "    # Plot outputs\n",
    "    plt.scatter(X_test_male, y_test_male,  color='black')\n",
    "    plt.scatter(X_test_female, y_test_female,  color='red')\n",
    "    plt.plot(X_test_male , y_pred_male, color='blue', linewidth=3)\n",
    "    plt.plot(X_test_female , y_pred_female, color='blue', linewidth=3)\n",
    "\n",
    "    plt.xticks(())\n",
    "    plt.yticks(())\n",
    "\n",
    "    plt.show()"
   ]
  },
  {
   "cell_type": "code",
   "execution_count": null,
   "metadata": {},
   "outputs": [],
   "source": []
  }
 ],
 "metadata": {
  "kernelspec": {
   "display_name": "Python 3",
   "language": "python",
   "name": "python3"
  },
  "language_info": {
   "codemirror_mode": {
    "name": "ipython",
    "version": 3
   },
   "file_extension": ".py",
   "mimetype": "text/x-python",
   "name": "python",
   "nbconvert_exporter": "python",
   "pygments_lexer": "ipython3",
   "version": "3.6.7"
  }
 },
 "nbformat": 4,
 "nbformat_minor": 2
}
