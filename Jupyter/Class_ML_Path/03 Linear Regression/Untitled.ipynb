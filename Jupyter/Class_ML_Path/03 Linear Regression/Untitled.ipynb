{
 "cells": [
  {
   "cell_type": "code",
   "execution_count": 18,
   "metadata": {},
   "outputs": [],
   "source": [
    "import pandas as pd\n",
    "import matplotlib.pyplot as plt\n",
    "import numpy as np\n",
    "from sklearn import linear_model\n",
    "%matplotlib inline\n",
    "\n",
    "if __name__ == '__main__':\n",
    "    #LoadData\n",
    "    DataMatrix = pd.read_csv('voice.csv', sep=',',skipinitialspace=True)\n",
    "    \n",
    "    DataMatrix.replace({'male': 1.0, 'female': -1.0},inplace=True)\n",
    "  \n",
    "    DataLabels = DataMatrix['label']\n",
    "      \n",
    "    # Transform to an NP Array\n",
    "    Data = DataMatrix.values[:,0:3]\n",
    "    Label = DataLabels.values\n",
    "  \n",
    "    # Train Data Set\n",
    "    X_train = (np.concatenate((Data[:1200,:], Data[1585:2785,:])))#.reshape(-1, 1)\n",
    "    y_train = (np.concatenate((Label[:1200], Label[1585:2785]))).reshape(-1, 1)\n",
    "    # Test\n",
    "    X_test_male   = Data[1200:1585,:]#.reshape(-1, 1)\n",
    "    X_test_female = Data[2785:,:]#.reshape(-1, 1)\n",
    "    y_test_male   = Label[1200:1585].reshape(-1, 1)\n",
    "    y_test_female = Label[2785:].reshape(-1, 1)\n",
    "\n",
    "    # Create linear regression object\n",
    "    #regr = linear_model.LinearRegression()\n",
    "\n",
    "    # Train the model using the training sets\n",
    "    #regr.fit(X_train, y_train)    \n",
    "\n",
    "    # Make predictions using the testing set\n",
    "    #y_pred_male   = regr.predict(X_test_male)\n",
    "    #y_pred_female = regr.predict(X_test_female)\n",
    "    \n",
    "    # The coefficients\n",
    "    #print('Coefficients: \\n', regr.coef_)\n",
    "\n",
    "\n",
    "    # Plot outputs\n",
    "    #plt.scatter(X_test_male, y_test_male,  color='black')\n",
    "    #plt.scatter(X_test_female, y_test_female,  color='red')\n",
    "    #plt.plot(X_test_male , y_pred_male, color='blue', linewidth=3)\n",
    "    #plt.plot(X_test_female , y_pred_female, color='blue', linewidth=3)\n",
    "\n",
    "    #plt.xticks(())\n",
    "    #plt.yticks(())\n",
    "\n",
    "    #plt.show()"
   ]
  },
  {
   "cell_type": "code",
   "execution_count": 19,
   "metadata": {},
   "outputs": [
    {
     "data": {
      "text/plain": [
       "(2400, 3)"
      ]
     },
     "execution_count": 19,
     "metadata": {},
     "output_type": "execute_result"
    }
   ],
   "source": [
    "Data.shape\n",
    "X_train.shape"
   ]
  },
  {
   "cell_type": "code",
   "execution_count": 15,
   "metadata": {},
   "outputs": [
    {
     "data": {
      "text/plain": [
       "(7200, 1)"
      ]
     },
     "execution_count": 15,
     "metadata": {},
     "output_type": "execute_result"
    }
   ],
   "source": [
    "X_train = (np.concatenate((Data[:1200,0:3], Data[1585:2785]))).reshape(-1, 1)\n",
    "X_train.shape"
   ]
  },
  {
   "cell_type": "code",
   "execution_count": 20,
   "metadata": {},
   "outputs": [],
   "source": [
    "regr = linear_model.LinearRegression()"
   ]
  },
  {
   "cell_type": "code",
   "execution_count": 11,
   "metadata": {},
   "outputs": [
    {
     "data": {
      "text/plain": [
       "LinearRegression(copy_X=True, fit_intercept=True, n_jobs=None,\n",
       "         normalize=False)"
      ]
     },
     "execution_count": 11,
     "metadata": {},
     "output_type": "execute_result"
    }
   ],
   "source": [
    "regr"
   ]
  },
  {
   "cell_type": "code",
   "execution_count": 21,
   "metadata": {},
   "outputs": [
    {
     "data": {
      "text/plain": [
       "LinearRegression(copy_X=True, fit_intercept=True, n_jobs=None,\n",
       "         normalize=False)"
      ]
     },
     "execution_count": 21,
     "metadata": {},
     "output_type": "execute_result"
    }
   ],
   "source": [
    "regr.fit(X_train, y_train)"
   ]
  },
  {
   "cell_type": "code",
   "execution_count": 22,
   "metadata": {},
   "outputs": [
    {
     "name": "stdout",
     "output_type": "stream",
     "text": [
      "Coefficients: \n",
      " [[  8.31299928  31.23798174  -6.7583666 ]]\n"
     ]
    }
   ],
   "source": [
    "print('Coefficients: \\n', regr.coef_)"
   ]
  },
  {
   "cell_type": "code",
   "execution_count": null,
   "metadata": {},
   "outputs": [],
   "source": []
  }
 ],
 "metadata": {
  "kernelspec": {
   "display_name": "Python 3",
   "language": "python",
   "name": "python3"
  },
  "language_info": {
   "codemirror_mode": {
    "name": "ipython",
    "version": 3
   },
   "file_extension": ".py",
   "mimetype": "text/x-python",
   "name": "python",
   "nbconvert_exporter": "python",
   "pygments_lexer": "ipython3",
   "version": "3.5.2"
  }
 },
 "nbformat": 4,
 "nbformat_minor": 2
}
